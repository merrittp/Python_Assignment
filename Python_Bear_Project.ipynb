{
 "cells": [
  {
   "cell_type": "code",
   "execution_count": 90,
   "metadata": {
    "collapsed": true,
    "deletable": true,
    "editable": true
   },
   "outputs": [],
   "source": [
    "#Importing Biopython for future use.\n",
    "\n",
    "from Bio import SeqIO\n",
    "from Bio.Data import CodonTable\n",
    "import pandas as pd\n",
    "from itertools import takewhile"
   ]
  },
  {
   "cell_type": "code",
   "execution_count": 91,
   "metadata": {
    "collapsed": false,
    "deletable": true,
    "editable": true
   },
   "outputs": [],
   "source": [
    "#Question 1\n",
    "#Functions given in file.\n",
    "#Get sequences from file.\n",
    "\n",
    "#Below: This line creates a function for getting sequences, with an input \n",
    "#file of fasta_fn.\n",
    "def get_sequences_from_file(fasta_fn):\n",
    "#Below: This line creates a dictionary for the sequences\n",
    "    sequence_data_dict = {}\n",
    "#Below: This for loop takes the fasta file and deposits various portions\n",
    "#of the file into different variables. The record variable is a temporary\n",
    "#variable that holds information captured during the foor loop. It is part\n",
    "#of the BioPython system.\n",
    "    for record in SeqIO.parse(fasta_fn, \"fasta\"):\n",
    "        description = record.description.split()\n",
    "        species_name = description[1] + \" \" + description[2]\n",
    "        sequence_data_dict[species_name] = record.seq\n",
    "    return(sequence_data_dict)"
   ]
  },
  {
   "cell_type": "code",
   "execution_count": 92,
   "metadata": {
    "collapsed": false,
    "deletable": true,
    "editable": true,
    "scrolled": false
   },
   "outputs": [],
   "source": [
    "#Setting variables that will be used by following functions.\n",
    "\n",
    "cytb_seqs = get_sequences_from_file(\"bears_cytb.fasta\")\n",
    "\n",
    "bears_df = pd.read_csv(\"bears_data.csv\")\n",
    "species_list = list(bears_df.species)\n",
    "\n",
    "test_sequence = str(cytb_seqs['Ursus arctos'])\n",
    "#test_sequence was used to test the written functions below."
   ]
  },
  {
   "cell_type": "code",
   "execution_count": 120,
   "metadata": {
    "collapsed": false,
    "deletable": true,
    "editable": true,
    "scrolled": true
   },
   "outputs": [],
   "source": [
    "#Question 2: Creating a function to translate a string variable of sequences.\n",
    "\n",
    "def translate_function(sample_string, stop_codons=('TAA', 'TAG', 'AGA', 'AGG')):\n",
    "    mito_table = CodonTable.unambiguous_dna_by_name[\"Vertebrate Mitochondrial\"] \n",
    "    #Above:Creating the codon reference table using BioPython.\n",
    "    amino_acids = () \n",
    "    #Above: Initializing a list to be used later.\n",
    "    codons = [sample_string[n:n+3] for n in range(0, len(sample_string),3)]\n",
    "    #Above: Using a single for loop to loop through sample_string by groups of 3 and save the codon.\n",
    "    stop_codon_loop = takewhile[lambda x: x not in stop_codons, codons]\n",
    "    #Above: This line creates a loop variable using takewhile and keeps the codons so long as they don't equal the stop codons.\n",
    "    #Above: Once it hits a stop codon, it exits the loop.\n",
    "    amino_acids = ''.join([mito_table.forward_table[codons] for codons in stop_codon_loop])\n",
    "    #Above: This line adds the codons that move passed the takewhile loop and translates them before adding to a list.\n",
    "    return(amino_acids)\n",
    "\n",
    "#Keep getting a 'type is not subscriptable' error that neither Jessica Judson, me, or Josh Walker could solve."
   ]
  },
  {
   "cell_type": "code",
   "execution_count": 112,
   "metadata": {
    "collapsed": false,
    "deletable": true,
    "editable": true
   },
   "outputs": [],
   "source": [
    "#Question 3\n",
    "\n",
    "from Bio.Seq import Seq\n",
    "from Bio.Alphabet import IUPAC\n",
    "#Above: Importing the Seq function from Bio.Seq that will help handle sequences.\n",
    "#Above: Importing IUPAC from Bio.Alphabet to allow data type specification.\n",
    "\n",
    "#Below: Create a function that takes in a string, turns into a Seq object, with data as IUPAC alphabet.\n",
    "def aa_calling(sample_string):\n",
    "    coding_dna = Seq(sample_string, IUPAC.ambiguous_dna)\n",
    "    #Above: Takes the input, makes it a Seq object, as a IUPAC alphabet for Seq reference.\n",
    "    amino_acids = coding_dna.translate(table=2, to_stop=True)\n",
    "    #Above: Creates a new list that has the translated input sequence.\n",
    "    return(amino_acids)\n"
   ]
  },
  {
   "cell_type": "code",
   "execution_count": 113,
   "metadata": {
    "collapsed": false,
    "deletable": true,
    "editable": true
   },
   "outputs": [
    {
     "name": "stdout",
     "output_type": "stream",
     "text": [
      "[0.0, 0.5684210526315789, 0.43157894736842106]\n"
     ]
    }
   ],
   "source": [
    "#Question 4\n",
    "\n",
    "charged = ['R','K','D','E']\n",
    "polar = ['Q','N','H','S','T','Y','C','M','W']\n",
    "hydrophobic = ['A','I','L','F','V','P','G']\n",
    "\n",
    "def get_proportion_aa_type_function(sample_translation, residues):\n",
    "    count = 0\n",
    "    for aa in sample_translation:\n",
    "        if aa in residues:\n",
    "            count += 1\n",
    "    return count/len(sample_translation)\n",
    "    "
   ]
  },
  {
   "cell_type": "code",
   "execution_count": 118,
   "metadata": {
    "collapsed": false,
    "deletable": true,
    "editable": true
   },
   "outputs": [],
   "source": [
    "#Question 5\n",
    "\n",
    "\n",
    "#Create a function that calls x, which will be the keys, and a dictionary.\n",
    "def proportion_calling(x, dictionary):\n",
    "    translated = aa_calling(str(dictionary[x]))\n",
    "    #Above: Call the translate function, and take the values of the dictionary for x as a string and save to a variable\n",
    "    proportion_charged = get_proportion_aa_type_function(translated, charged)\n",
    "    #Above: Determine the proportion of charged by calling the get proportion function and enter parameters.\n",
    "    proportion_polar = get_proportion_aa_type_function(translated, polar)\n",
    "    #Above: Determine the proportion of polar amino acids by calling the proportion function and enter parameters.\n",
    "    proportion_hydrophobic = get_proportion_aa_type_function(translated, hydrophobic)\n",
    "    #Above: Determine the proportion of hydrophobic amino acids by calling the proportion fuction and enter paramaters.\n",
    "    return proportion_charged, proportion_polar, proportion_hydrophobic\n",
    "\n",
    "bears_df[['charged', 'polar', 'hydrophobic']] = bears_df.apply(lambda row: pd.Series(proportion_calling(row['species'], cytb_seqs)), axis=1)\n",
    "#For the columns in the bears_df, apply the proportion calling function by indexing through by species using the cytb_seqs data."
   ]
  },
  {
   "cell_type": "code",
   "execution_count": 119,
   "metadata": {
    "collapsed": false,
    "deletable": true,
    "editable": true
   },
   "outputs": [
    {
     "data": {
      "image/png": "[encoded data removed]",
      "text/plain": [
       "<matplotlib.figure.Figure at 0x113a0f1d0>"
      ]
     },
     "metadata": {},
     "output_type": "display_data"
    }
   ],
   "source": [
    "#Quesiton 6: Bar Plot of Mass and Species\n",
    "#Code adapted from http://people.duke.edu/~ccc14/pcfb/numpympl/MatplotlibBarPlots.html\n",
    "\n",
    "#Importing the necessary packages to implement this code.\n",
    "import matplotlib.pyplot as plt\n",
    "import numpy as np\n",
    "\n",
    "#Below: creates a figure using plt's figure and assigning it to a variable.\n",
    "fig = plt.figure()\n",
    "#Below: takes the above variable, and adds a subplot over it.\n",
    "ax = fig.add_subplot(111)\n",
    "#Below: creates a variable that holds, as a list, the subspecies names\n",
    "y=species_list\n",
    "\n",
    "#Below is a variable holding the number of bins for the bars\n",
    "N = 9\n",
    "#Below: creates a variable that holds the mass data.\n",
    "x = list(bears_df['mass'])\n",
    "#Below: indicates the number of bars\n",
    "ind = np.arange(N)\n",
    "#Below: creates the width of the bars.\n",
    "width = 0.35                    \n",
    "\n",
    "#Below: creates the bars, by taking the number of bars needed, the data, the width of the bars, and the color\n",
    "#in that order.\n",
    "rects2 = ax.bar(ind, x, width, align='center', color='red')\n",
    "\n",
    "#The variables below hold the different labels that are being applied to the graph.\n",
    "#I had a problem getting the tick marks to align. For some reason, they started too far over, and I\n",
    "#couldn't get them to move.\n",
    "ax.set_ylabel('Mass')\n",
    "ax.set_title('Bear Mass by Species')\n",
    "xTickMarks = [str(i) for i in y]\n",
    "ax.set_xticks(ind+width)\n",
    "xtickNames = ax.set_xticklabels(xTickMarks)\n",
    "plt.setp(xtickNames, rotation=45, fontsize=10, ha='right')\n",
    "\n",
    "plt.show()"
   ]
  },
  {
   "cell_type": "code",
   "execution_count": 139,
   "metadata": {
    "collapsed": false,
    "deletable": true,
    "editable": true
   },
   "outputs": [
    {
     "data": {
      "image/png": "[encoded data removed]",
      "text/plain": [
       "<matplotlib.figure.Figure at 0x114c5a048>"
      ]
     },
     "metadata": {},
     "output_type": "display_data"
    }
   ],
   "source": [
    "#Question 7\n",
    "\n",
    "bears_plot_df=bears_df[['charged', 'polar', 'hydrophobic']]\n",
    "\n",
    "#Below: creates a figure using plt's figure and assigning it to a variable.\n",
    "fig2 = plt.figure()\n",
    "#Below: takes the above variable, and adds a subplot over it.\n",
    "ax2 = fig2.add_subplot(111)\n",
    "#Below: creates a variable that holds, as a list, the subspecies names\n",
    "y=species_list\n",
    "\n",
    "#Below is a variable holding the number of bins for the bars\n",
    "N = 9\n",
    "#Below: creates a variable that holds the mass data.\n",
    "x = list(bears_plot_df['charged'])\n",
    "w = list(bears_plot_df['polar'])\n",
    "z = list(bears_plot_df['hydrophobic'])\n",
    "#Below: indicates the number of bars\n",
    "ind = np.arange(N)\n",
    "#Below: creates the width of the bars.\n",
    "width = 0.35                    \n",
    "\n",
    "#Below: creates the bars, by taking the number of b needed, the data, the width of the bars, and the color\n",
    "#in that order.\n",
    "rects1 = ax2.bar(ind, x, width, color='blue')\n",
    "rects2 = ax2.bar(ind, w, width, color='red')\n",
    "rects3 = ax2.bar(ind, z, width, color='yellow')\n",
    "\n",
    "#The variables below hold the different labels that are being applied to the graph.\n",
    "#I had a problem getting the tick marks to align. For some reason, they started too far over, and I\n",
    "#couldn't get them to move.\n",
    "ax.set_ylabel('Proportion')\n",
    "ax.set_title('Amino Acid by Species')\n",
    "xTickMarks = [str(i) for i in y]\n",
    "ax.set_xticks(ind+width)\n",
    "xtickNames = ax2.set_xticklabels(xTickMarks)\n",
    "plt.setp(xtickNames, rotation=45, fontsize=10, ha='right')\n",
    "\n",
    "plt.show()\n",
    "\n",
    "#I tried."
   ]
  },
  {
   "cell_type": "code",
   "execution_count": 140,
   "metadata": {
    "collapsed": true,
    "deletable": true,
    "editable": true
   },
   "outputs": [],
   "source": [
    "#Question 8\n",
    "#Saving new data frame\n",
    "\n",
    "bears_df.to_csv('bears_mass.csv', index=False)"
   ]
  },
  {
   "cell_type": "code",
   "execution_count": null,
   "metadata": {
    "collapsed": true,
    "deletable": true,
    "editable": true
   },
   "outputs": [],
   "source": [
    "#Notes:\n",
    "\n",
    "#Worked with Jessica Judson and Josh Walker, and takewhile and use of lambda came from Jessica. Had previously been \n",
    "#with a ton of for loops within for loops to get things to work, by iterating through a dictionary. Was not going well.\n",
    "#Git repository: https://github.com/merrittp/Python_Assignment.git\n",
    "\n",
    "#Sources:\n",
    "#http://biopython.org/wiki/SeqIO\n",
    "#http://biopython.org/DIST/docs/tutorial/Tutorial.html\n",
    "##http://people.duke.edu/~ccc14/pcfb/numpympl/MatplotlibBarPlots.html"
   ]
  }
 ],
 "metadata": {
  "kernelspec": {
   "display_name": "Python 3",
   "language": "python",
   "name": "python3"
  },
  "language_info": {
   "codemirror_mode": {
    "name": "ipython",
    "version": 3
   },
   "file_extension": ".py",
   "mimetype": "text/x-python",
   "name": "python",
   "nbconvert_exporter": "python",
   "pygments_lexer": "ipython3",
   "version": "3.6.0"
  }
 },
 "nbformat": 4,
 "nbformat_minor": 2
}
